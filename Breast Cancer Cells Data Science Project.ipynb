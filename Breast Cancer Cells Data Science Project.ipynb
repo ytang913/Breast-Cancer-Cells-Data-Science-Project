{
 "cells": [
  {
   "cell_type": "code",
   "execution_count": 1,
   "metadata": {},
   "outputs": [],
   "source": [
    "import pandas as pd\n",
    "import numpy as np\n",
    "\n",
    "#Graphing\n",
    "import matplotlib.pyplot as plt\n",
    "import seaborn as sns\n",
    "%matplotlib inline"
   ]
  },
  {
   "cell_type": "code",
   "execution_count": 2,
   "metadata": {},
   "outputs": [
    {
     "data": {
      "text/html": [
       "<div>\n",
       "<style scoped>\n",
       "    .dataframe tbody tr th:only-of-type {\n",
       "        vertical-align: middle;\n",
       "    }\n",
       "\n",
       "    .dataframe tbody tr th {\n",
       "        vertical-align: top;\n",
       "    }\n",
       "\n",
       "    .dataframe thead th {\n",
       "        text-align: right;\n",
       "    }\n",
       "</style>\n",
       "<table border=\"1\" class=\"dataframe\">\n",
       "  <thead>\n",
       "    <tr style=\"text-align: right;\">\n",
       "      <th></th>\n",
       "      <th>samples</th>\n",
       "      <th>type</th>\n",
       "      <th>1007_s_at</th>\n",
       "      <th>1053_at</th>\n",
       "      <th>117_at</th>\n",
       "      <th>121_at</th>\n",
       "      <th>1255_g_at</th>\n",
       "      <th>1294_at</th>\n",
       "      <th>1316_at</th>\n",
       "      <th>1320_at</th>\n",
       "      <th>...</th>\n",
       "      <th>206926_s_at</th>\n",
       "      <th>206927_s_at</th>\n",
       "      <th>206928_at</th>\n",
       "      <th>206929_s_at</th>\n",
       "      <th>206930_at</th>\n",
       "      <th>206931_at</th>\n",
       "      <th>206932_at</th>\n",
       "      <th>206933_s_at</th>\n",
       "      <th>206934_at</th>\n",
       "      <th>206935_at</th>\n",
       "    </tr>\n",
       "  </thead>\n",
       "  <tbody>\n",
       "    <tr>\n",
       "      <td>0</td>\n",
       "      <td>84</td>\n",
       "      <td>basal</td>\n",
       "      <td>9.850040</td>\n",
       "      <td>8.097927</td>\n",
       "      <td>6.424728</td>\n",
       "      <td>7.353027</td>\n",
       "      <td>3.029122</td>\n",
       "      <td>6.880079</td>\n",
       "      <td>4.963740</td>\n",
       "      <td>4.408328</td>\n",
       "      <td>...</td>\n",
       "      <td>6.167506</td>\n",
       "      <td>4.157291</td>\n",
       "      <td>8.463251</td>\n",
       "      <td>8.233774</td>\n",
       "      <td>3.440250</td>\n",
       "      <td>3.249266</td>\n",
       "      <td>4.077760</td>\n",
       "      <td>5.114589</td>\n",
       "      <td>3.649391</td>\n",
       "      <td>3.048597</td>\n",
       "    </tr>\n",
       "    <tr>\n",
       "      <td>1</td>\n",
       "      <td>85</td>\n",
       "      <td>basal</td>\n",
       "      <td>9.861357</td>\n",
       "      <td>8.212222</td>\n",
       "      <td>7.062593</td>\n",
       "      <td>7.685578</td>\n",
       "      <td>3.149468</td>\n",
       "      <td>7.542283</td>\n",
       "      <td>5.129607</td>\n",
       "      <td>4.584418</td>\n",
       "      <td>...</td>\n",
       "      <td>6.016303</td>\n",
       "      <td>3.746938</td>\n",
       "      <td>9.166471</td>\n",
       "      <td>7.922956</td>\n",
       "      <td>2.832078</td>\n",
       "      <td>3.563185</td>\n",
       "      <td>4.457529</td>\n",
       "      <td>4.774928</td>\n",
       "      <td>3.886136</td>\n",
       "      <td>4.945811</td>\n",
       "    </tr>\n",
       "    <tr>\n",
       "      <td>2</td>\n",
       "      <td>87</td>\n",
       "      <td>basal</td>\n",
       "      <td>10.103478</td>\n",
       "      <td>8.936137</td>\n",
       "      <td>5.735970</td>\n",
       "      <td>7.687822</td>\n",
       "      <td>3.125931</td>\n",
       "      <td>6.562369</td>\n",
       "      <td>4.813449</td>\n",
       "      <td>4.425195</td>\n",
       "      <td>...</td>\n",
       "      <td>6.298974</td>\n",
       "      <td>3.818161</td>\n",
       "      <td>8.691060</td>\n",
       "      <td>7.209782</td>\n",
       "      <td>3.371737</td>\n",
       "      <td>3.500604</td>\n",
       "      <td>4.909135</td>\n",
       "      <td>4.619495</td>\n",
       "      <td>3.393670</td>\n",
       "      <td>2.940155</td>\n",
       "    </tr>\n",
       "    <tr>\n",
       "      <td>3</td>\n",
       "      <td>90</td>\n",
       "      <td>basal</td>\n",
       "      <td>9.756875</td>\n",
       "      <td>7.357148</td>\n",
       "      <td>6.479183</td>\n",
       "      <td>6.986624</td>\n",
       "      <td>3.181638</td>\n",
       "      <td>7.802344</td>\n",
       "      <td>5.490982</td>\n",
       "      <td>4.567956</td>\n",
       "      <td>...</td>\n",
       "      <td>5.924285</td>\n",
       "      <td>3.799996</td>\n",
       "      <td>8.519125</td>\n",
       "      <td>7.011523</td>\n",
       "      <td>3.412964</td>\n",
       "      <td>3.716722</td>\n",
       "      <td>4.822208</td>\n",
       "      <td>4.792745</td>\n",
       "      <td>3.619956</td>\n",
       "      <td>2.710000</td>\n",
       "    </tr>\n",
       "    <tr>\n",
       "      <td>4</td>\n",
       "      <td>91</td>\n",
       "      <td>basal</td>\n",
       "      <td>9.408330</td>\n",
       "      <td>7.746404</td>\n",
       "      <td>6.693980</td>\n",
       "      <td>7.333426</td>\n",
       "      <td>3.169923</td>\n",
       "      <td>7.610457</td>\n",
       "      <td>5.372469</td>\n",
       "      <td>4.424426</td>\n",
       "      <td>...</td>\n",
       "      <td>5.984826</td>\n",
       "      <td>4.005609</td>\n",
       "      <td>9.199242</td>\n",
       "      <td>7.460834</td>\n",
       "      <td>3.155281</td>\n",
       "      <td>4.028018</td>\n",
       "      <td>5.705145</td>\n",
       "      <td>4.477804</td>\n",
       "      <td>3.724393</td>\n",
       "      <td>2.829142</td>\n",
       "    </tr>\n",
       "  </tbody>\n",
       "</table>\n",
       "<p>5 rows × 16384 columns</p>\n",
       "</div>"
      ],
      "text/plain": [
       "   samples   type  1007_s_at   1053_at    117_at    121_at  1255_g_at  \\\n",
       "0       84  basal   9.850040  8.097927  6.424728  7.353027   3.029122   \n",
       "1       85  basal   9.861357  8.212222  7.062593  7.685578   3.149468   \n",
       "2       87  basal  10.103478  8.936137  5.735970  7.687822   3.125931   \n",
       "3       90  basal   9.756875  7.357148  6.479183  6.986624   3.181638   \n",
       "4       91  basal   9.408330  7.746404  6.693980  7.333426   3.169923   \n",
       "\n",
       "    1294_at   1316_at   1320_at  ...  206926_s_at  206927_s_at  206928_at  \\\n",
       "0  6.880079  4.963740  4.408328  ...     6.167506     4.157291   8.463251   \n",
       "1  7.542283  5.129607  4.584418  ...     6.016303     3.746938   9.166471   \n",
       "2  6.562369  4.813449  4.425195  ...     6.298974     3.818161   8.691060   \n",
       "3  7.802344  5.490982  4.567956  ...     5.924285     3.799996   8.519125   \n",
       "4  7.610457  5.372469  4.424426  ...     5.984826     4.005609   9.199242   \n",
       "\n",
       "   206929_s_at  206930_at  206931_at  206932_at  206933_s_at  206934_at  \\\n",
       "0     8.233774   3.440250   3.249266   4.077760     5.114589   3.649391   \n",
       "1     7.922956   2.832078   3.563185   4.457529     4.774928   3.886136   \n",
       "2     7.209782   3.371737   3.500604   4.909135     4.619495   3.393670   \n",
       "3     7.011523   3.412964   3.716722   4.822208     4.792745   3.619956   \n",
       "4     7.460834   3.155281   4.028018   5.705145     4.477804   3.724393   \n",
       "\n",
       "   206935_at  \n",
       "0   3.048597  \n",
       "1   4.945811  \n",
       "2   2.940155  \n",
       "3   2.710000  \n",
       "4   2.829142  \n",
       "\n",
       "[5 rows x 16384 columns]"
      ]
     },
     "execution_count": 2,
     "metadata": {},
     "output_type": "execute_result"
    }
   ],
   "source": [
    "df = pd.read_csv('Breast_data.csv')\n",
    "df.head()\n"
   ]
  },
  {
   "cell_type": "code",
   "execution_count": 3,
   "metadata": {},
   "outputs": [
    {
     "data": {
      "text/html": [
       "<div>\n",
       "<style scoped>\n",
       "    .dataframe tbody tr th:only-of-type {\n",
       "        vertical-align: middle;\n",
       "    }\n",
       "\n",
       "    .dataframe tbody tr th {\n",
       "        vertical-align: top;\n",
       "    }\n",
       "\n",
       "    .dataframe thead th {\n",
       "        text-align: right;\n",
       "    }\n",
       "</style>\n",
       "<table border=\"1\" class=\"dataframe\">\n",
       "  <thead>\n",
       "    <tr style=\"text-align: right;\">\n",
       "      <th></th>\n",
       "      <th>samples</th>\n",
       "      <th>1007_s_at</th>\n",
       "      <th>1053_at</th>\n",
       "      <th>117_at</th>\n",
       "      <th>121_at</th>\n",
       "      <th>1255_g_at</th>\n",
       "      <th>1294_at</th>\n",
       "      <th>1316_at</th>\n",
       "      <th>1320_at</th>\n",
       "      <th>1405_i_at</th>\n",
       "      <th>...</th>\n",
       "      <th>206926_s_at</th>\n",
       "      <th>206927_s_at</th>\n",
       "      <th>206928_at</th>\n",
       "      <th>206929_s_at</th>\n",
       "      <th>206930_at</th>\n",
       "      <th>206931_at</th>\n",
       "      <th>206932_at</th>\n",
       "      <th>206933_s_at</th>\n",
       "      <th>206934_at</th>\n",
       "      <th>206935_at</th>\n",
       "    </tr>\n",
       "  </thead>\n",
       "  <tbody>\n",
       "    <tr>\n",
       "      <td>count</td>\n",
       "      <td>151.000000</td>\n",
       "      <td>151.000000</td>\n",
       "      <td>151.000000</td>\n",
       "      <td>151.000000</td>\n",
       "      <td>151.000000</td>\n",
       "      <td>151.000000</td>\n",
       "      <td>151.000000</td>\n",
       "      <td>151.000000</td>\n",
       "      <td>151.000000</td>\n",
       "      <td>151.000000</td>\n",
       "      <td>...</td>\n",
       "      <td>151.000000</td>\n",
       "      <td>151.000000</td>\n",
       "      <td>151.000000</td>\n",
       "      <td>151.000000</td>\n",
       "      <td>151.000000</td>\n",
       "      <td>151.000000</td>\n",
       "      <td>151.000000</td>\n",
       "      <td>151.000000</td>\n",
       "      <td>151.000000</td>\n",
       "      <td>151.000000</td>\n",
       "    </tr>\n",
       "    <tr>\n",
       "      <td>mean</td>\n",
       "      <td>160.668874</td>\n",
       "      <td>10.338901</td>\n",
       "      <td>7.631910</td>\n",
       "      <td>6.224885</td>\n",
       "      <td>7.339248</td>\n",
       "      <td>3.185252</td>\n",
       "      <td>7.310240</td>\n",
       "      <td>5.323484</td>\n",
       "      <td>4.714095</td>\n",
       "      <td>7.787712</td>\n",
       "      <td>...</td>\n",
       "      <td>6.044257</td>\n",
       "      <td>4.246112</td>\n",
       "      <td>7.356438</td>\n",
       "      <td>7.341858</td>\n",
       "      <td>3.506792</td>\n",
       "      <td>3.768854</td>\n",
       "      <td>5.137365</td>\n",
       "      <td>4.629826</td>\n",
       "      <td>3.757307</td>\n",
       "      <td>3.158962</td>\n",
       "    </tr>\n",
       "    <tr>\n",
       "      <td>std</td>\n",
       "      <td>45.431226</td>\n",
       "      <td>0.613445</td>\n",
       "      <td>0.706464</td>\n",
       "      <td>0.645435</td>\n",
       "      <td>0.330827</td>\n",
       "      <td>0.158909</td>\n",
       "      <td>0.642091</td>\n",
       "      <td>0.294513</td>\n",
       "      <td>0.308550</td>\n",
       "      <td>1.648260</td>\n",
       "      <td>...</td>\n",
       "      <td>0.221328</td>\n",
       "      <td>0.598269</td>\n",
       "      <td>0.917928</td>\n",
       "      <td>0.634097</td>\n",
       "      <td>0.446523</td>\n",
       "      <td>0.331310</td>\n",
       "      <td>1.129532</td>\n",
       "      <td>0.261335</td>\n",
       "      <td>0.255985</td>\n",
       "      <td>0.975045</td>\n",
       "    </tr>\n",
       "    <tr>\n",
       "      <td>min</td>\n",
       "      <td>84.000000</td>\n",
       "      <td>7.505488</td>\n",
       "      <td>5.855968</td>\n",
       "      <td>4.763602</td>\n",
       "      <td>6.632206</td>\n",
       "      <td>2.760583</td>\n",
       "      <td>5.455736</td>\n",
       "      <td>4.646131</td>\n",
       "      <td>3.946065</td>\n",
       "      <td>3.866030</td>\n",
       "      <td>...</td>\n",
       "      <td>5.498867</td>\n",
       "      <td>3.551508</td>\n",
       "      <td>4.540807</td>\n",
       "      <td>5.775699</td>\n",
       "      <td>2.832078</td>\n",
       "      <td>3.232748</td>\n",
       "      <td>3.573543</td>\n",
       "      <td>3.985600</td>\n",
       "      <td>3.299856</td>\n",
       "      <td>2.615616</td>\n",
       "    </tr>\n",
       "    <tr>\n",
       "      <td>25%</td>\n",
       "      <td>121.500000</td>\n",
       "      <td>10.103030</td>\n",
       "      <td>7.166075</td>\n",
       "      <td>5.798087</td>\n",
       "      <td>7.105841</td>\n",
       "      <td>3.075873</td>\n",
       "      <td>6.874504</td>\n",
       "      <td>5.131931</td>\n",
       "      <td>4.466260</td>\n",
       "      <td>6.804510</td>\n",
       "      <td>...</td>\n",
       "      <td>5.901127</td>\n",
       "      <td>3.882240</td>\n",
       "      <td>6.781335</td>\n",
       "      <td>6.943383</td>\n",
       "      <td>3.303582</td>\n",
       "      <td>3.581655</td>\n",
       "      <td>4.436561</td>\n",
       "      <td>4.465826</td>\n",
       "      <td>3.616064</td>\n",
       "      <td>2.785401</td>\n",
       "    </tr>\n",
       "    <tr>\n",
       "      <td>50%</td>\n",
       "      <td>159.000000</td>\n",
       "      <td>10.416819</td>\n",
       "      <td>7.531673</td>\n",
       "      <td>6.235074</td>\n",
       "      <td>7.333426</td>\n",
       "      <td>3.187703</td>\n",
       "      <td>7.417113</td>\n",
       "      <td>5.274663</td>\n",
       "      <td>4.662957</td>\n",
       "      <td>7.912255</td>\n",
       "      <td>...</td>\n",
       "      <td>6.049805</td>\n",
       "      <td>4.075815</td>\n",
       "      <td>7.318035</td>\n",
       "      <td>7.345197</td>\n",
       "      <td>3.449398</td>\n",
       "      <td>3.712006</td>\n",
       "      <td>4.894887</td>\n",
       "      <td>4.622208</td>\n",
       "      <td>3.721433</td>\n",
       "      <td>2.883247</td>\n",
       "    </tr>\n",
       "    <tr>\n",
       "      <td>75%</td>\n",
       "      <td>200.500000</td>\n",
       "      <td>10.735117</td>\n",
       "      <td>8.053832</td>\n",
       "      <td>6.612291</td>\n",
       "      <td>7.513084</td>\n",
       "      <td>3.280416</td>\n",
       "      <td>7.760806</td>\n",
       "      <td>5.456686</td>\n",
       "      <td>4.941337</td>\n",
       "      <td>8.887997</td>\n",
       "      <td>...</td>\n",
       "      <td>6.187191</td>\n",
       "      <td>4.331323</td>\n",
       "      <td>7.947290</td>\n",
       "      <td>7.809136</td>\n",
       "      <td>3.566298</td>\n",
       "      <td>3.894289</td>\n",
       "      <td>5.674998</td>\n",
       "      <td>4.743377</td>\n",
       "      <td>3.885384</td>\n",
       "      <td>3.029796</td>\n",
       "    </tr>\n",
       "    <tr>\n",
       "      <td>max</td>\n",
       "      <td>238.000000</td>\n",
       "      <td>11.675109</td>\n",
       "      <td>9.627008</td>\n",
       "      <td>8.364749</td>\n",
       "      <td>8.374055</td>\n",
       "      <td>3.611630</td>\n",
       "      <td>8.569296</td>\n",
       "      <td>6.360765</td>\n",
       "      <td>5.893006</td>\n",
       "      <td>11.710498</td>\n",
       "      <td>...</td>\n",
       "      <td>7.121218</td>\n",
       "      <td>6.414861</td>\n",
       "      <td>10.030405</td>\n",
       "      <td>8.691753</td>\n",
       "      <td>6.902953</td>\n",
       "      <td>5.007437</td>\n",
       "      <td>10.209507</td>\n",
       "      <td>5.745874</td>\n",
       "      <td>5.534706</td>\n",
       "      <td>10.644928</td>\n",
       "    </tr>\n",
       "  </tbody>\n",
       "</table>\n",
       "<p>8 rows × 16383 columns</p>\n",
       "</div>"
      ],
      "text/plain": [
       "          samples   1007_s_at     1053_at      117_at      121_at   1255_g_at  \\\n",
       "count  151.000000  151.000000  151.000000  151.000000  151.000000  151.000000   \n",
       "mean   160.668874   10.338901    7.631910    6.224885    7.339248    3.185252   \n",
       "std     45.431226    0.613445    0.706464    0.645435    0.330827    0.158909   \n",
       "min     84.000000    7.505488    5.855968    4.763602    6.632206    2.760583   \n",
       "25%    121.500000   10.103030    7.166075    5.798087    7.105841    3.075873   \n",
       "50%    159.000000   10.416819    7.531673    6.235074    7.333426    3.187703   \n",
       "75%    200.500000   10.735117    8.053832    6.612291    7.513084    3.280416   \n",
       "max    238.000000   11.675109    9.627008    8.364749    8.374055    3.611630   \n",
       "\n",
       "          1294_at     1316_at     1320_at   1405_i_at  ...  206926_s_at  \\\n",
       "count  151.000000  151.000000  151.000000  151.000000  ...   151.000000   \n",
       "mean     7.310240    5.323484    4.714095    7.787712  ...     6.044257   \n",
       "std      0.642091    0.294513    0.308550    1.648260  ...     0.221328   \n",
       "min      5.455736    4.646131    3.946065    3.866030  ...     5.498867   \n",
       "25%      6.874504    5.131931    4.466260    6.804510  ...     5.901127   \n",
       "50%      7.417113    5.274663    4.662957    7.912255  ...     6.049805   \n",
       "75%      7.760806    5.456686    4.941337    8.887997  ...     6.187191   \n",
       "max      8.569296    6.360765    5.893006   11.710498  ...     7.121218   \n",
       "\n",
       "       206927_s_at   206928_at  206929_s_at   206930_at   206931_at  \\\n",
       "count   151.000000  151.000000   151.000000  151.000000  151.000000   \n",
       "mean      4.246112    7.356438     7.341858    3.506792    3.768854   \n",
       "std       0.598269    0.917928     0.634097    0.446523    0.331310   \n",
       "min       3.551508    4.540807     5.775699    2.832078    3.232748   \n",
       "25%       3.882240    6.781335     6.943383    3.303582    3.581655   \n",
       "50%       4.075815    7.318035     7.345197    3.449398    3.712006   \n",
       "75%       4.331323    7.947290     7.809136    3.566298    3.894289   \n",
       "max       6.414861   10.030405     8.691753    6.902953    5.007437   \n",
       "\n",
       "        206932_at  206933_s_at   206934_at   206935_at  \n",
       "count  151.000000   151.000000  151.000000  151.000000  \n",
       "mean     5.137365     4.629826    3.757307    3.158962  \n",
       "std      1.129532     0.261335    0.255985    0.975045  \n",
       "min      3.573543     3.985600    3.299856    2.615616  \n",
       "25%      4.436561     4.465826    3.616064    2.785401  \n",
       "50%      4.894887     4.622208    3.721433    2.883247  \n",
       "75%      5.674998     4.743377    3.885384    3.029796  \n",
       "max     10.209507     5.745874    5.534706   10.644928  \n",
       "\n",
       "[8 rows x 16383 columns]"
      ]
     },
     "execution_count": 3,
     "metadata": {},
     "output_type": "execute_result"
    }
   ],
   "source": [
    "df.describe()"
   ]
  },
  {
   "cell_type": "code",
   "execution_count": 4,
   "metadata": {},
   "outputs": [
    {
     "data": {
      "text/plain": [
       "samples        0\n",
       "type           0\n",
       "1007_s_at      0\n",
       "1053_at        0\n",
       "117_at         0\n",
       "              ..\n",
       "206931_at      0\n",
       "206932_at      0\n",
       "206933_s_at    0\n",
       "206934_at      0\n",
       "206935_at      0\n",
       "Length: 16384, dtype: int64"
      ]
     },
     "execution_count": 4,
     "metadata": {},
     "output_type": "execute_result"
    }
   ],
   "source": [
    "df.isnull().sum()"
   ]
  },
  {
   "cell_type": "code",
   "execution_count": 5,
   "metadata": {},
   "outputs": [
    {
     "data": {
      "text/plain": [
       "array([[ 9.85003997,  8.09792735,  6.42472816, ...,  5.11458851,\n",
       "         3.64939072,  3.04859711],\n",
       "       [ 9.86135737,  8.21222225,  7.06259284, ...,  4.77492773,\n",
       "         3.88613614,  4.94581051],\n",
       "       [10.1034785 ,  8.93613685,  5.73596977, ...,  4.61949516,\n",
       "         3.39367017,  2.94015536],\n",
       "       ...,\n",
       "       [11.02709803,  7.18087582,  6.30473603, ...,  4.88625698,\n",
       "         3.97607037,  2.81067694],\n",
       "       [10.44439499,  7.5251525 ,  5.9644598 , ...,  4.82469434,\n",
       "         3.89717405,  2.90245246],\n",
       "       [11.34581728,  7.3792993 ,  5.89117177, ...,  4.40207106,\n",
       "         3.34472859,  2.78756373]])"
      ]
     },
     "execution_count": 5,
     "metadata": {},
     "output_type": "execute_result"
    }
   ],
   "source": [
    "cell_data = df.iloc[:,2:].values\n",
    "cell_data"
   ]
  },
  {
   "cell_type": "code",
   "execution_count": 6,
   "metadata": {},
   "outputs": [
    {
     "data": {
      "text/plain": [
       "basal        41\n",
       "luminal_B    30\n",
       "HER          30\n",
       "luminal_A    29\n",
       "cell_line    14\n",
       "normal        7\n",
       "Name: type, dtype: int64"
      ]
     },
     "execution_count": 6,
     "metadata": {},
     "output_type": "execute_result"
    }
   ],
   "source": [
    "df['type'].value_counts()\n",
    "#6 types"
   ]
  },
  {
   "cell_type": "code",
   "execution_count": 7,
   "metadata": {},
   "outputs": [
    {
     "data": {
      "text/plain": [
       "(151, 16384)"
      ]
     },
     "execution_count": 7,
     "metadata": {},
     "output_type": "execute_result"
    }
   ],
   "source": [
    "df.shape"
   ]
  },
  {
   "cell_type": "markdown",
   "metadata": {},
   "source": [
    "# Logistic Regression"
   ]
  },
  {
   "cell_type": "code",
   "execution_count": 8,
   "metadata": {},
   "outputs": [],
   "source": [
    "from sklearn.linear_model import LogisticRegression\n",
    "from sklearn.model_selection import train_test_split\n",
    "from sklearn.metrics import classification_report, confusion_matrix\n",
    "from sklearn.metrics import roc_auc_score, roc_curve, accuracy_score\n",
    "from sklearn.metrics import precision_score, recall_score\n",
    "from sklearn.preprocessing import StandardScaler\n",
    "from sklearn import preprocessing\n",
    "from sklearn.feature_selection import SelectFromModel\n",
    "\n",
    "#getting rid of warnings in my notebook\n",
    "import os\n",
    "import warnings\n",
    "warnings.filterwarnings('ignore')"
   ]
  },
  {
   "cell_type": "code",
   "execution_count": 9,
   "metadata": {},
   "outputs": [],
   "source": [
    "X = cell_data\n",
    "y= df.type \n",
    "\n"
   ]
  },
  {
   "cell_type": "code",
   "execution_count": 10,
   "metadata": {},
   "outputs": [],
   "source": [
    "from sklearn.model_selection import train_test_split\n",
    "X_train, X_test, y_train, y_test = train_test_split(X, y, test_size=0.20)\n"
   ]
  },
  {
   "cell_type": "code",
   "execution_count": 11,
   "metadata": {},
   "outputs": [
    {
     "data": {
      "text/plain": [
       "array(['HER', 'HER', 'basal', 'basal', 'luminal_B', 'luminal_A',\n",
       "       'luminal_B', 'basal', 'luminal_A', 'cell_line', 'cell_line',\n",
       "       'basal', 'basal', 'basal', 'cell_line', 'luminal_B', 'luminal_A',\n",
       "       'luminal_A', 'luminal_B', 'HER', 'basal', 'luminal_B', 'luminal_B',\n",
       "       'luminal_B', 'basal', 'luminal_A', 'HER', 'luminal_A', 'HER',\n",
       "       'luminal_B', 'cell_line'], dtype=object)"
      ]
     },
     "execution_count": 11,
     "metadata": {},
     "output_type": "execute_result"
    }
   ],
   "source": [
    "LogReg = LogisticRegression()\n",
    "\n",
    "\n",
    "scaler = preprocessing.StandardScaler()\n",
    "X_train = scaler.fit_transform(X_train)\n",
    "X_test = scaler.transform(X_test)\n",
    "\n",
    "LogReg.fit(X_train,y_train)\n",
    "\n",
    "\n",
    "y_pred=LogReg.predict(X_test)\n",
    "y_pred"
   ]
  },
  {
   "cell_type": "code",
   "execution_count": 12,
   "metadata": {},
   "outputs": [
    {
     "name": "stdout",
     "output_type": "stream",
     "text": [
      "Classes ['HER' 'basal' 'cell_line' 'luminal_A' 'luminal_B' 'normal']\n",
      "Intercept [-0.10930556 -0.05721094 -0.11958636 -0.12316141 -0.1560587  -0.21915887]\n",
      "Coefficients [[ 0.00536393 -0.00041207 -0.01403787 ...  0.00142855 -0.00194386\n",
      "  -0.00743698]\n",
      " [-0.00593208  0.00243555  0.00991116 ...  0.00085626 -0.00028944\n",
      "   0.00766053]\n",
      " [-0.00635269  0.00688694 -0.01375145 ...  0.00474327  0.0113734\n",
      "   0.0010728 ]\n",
      " [-0.00405432 -0.00941812 -0.0020451  ...  0.00691901 -0.00192562\n",
      "  -0.00135952]\n",
      " [ 0.00777929  0.00377428  0.00580572 ... -0.00683725 -0.00220083\n",
      "   0.00053095]\n",
      " [-0.00751298 -0.00706918 -0.00037669 ... -0.00609335 -0.00064342\n",
      "   0.00138144]]\n"
     ]
    }
   ],
   "source": [
    "print('Classes', LogReg.classes_)\n",
    "print('Intercept',LogReg.intercept_)\n",
    "print(\"Coefficients\", LogReg.coef_ )"
   ]
  },
  {
   "cell_type": "code",
   "execution_count": 13,
   "metadata": {},
   "outputs": [
    {
     "name": "stdout",
     "output_type": "stream",
     "text": [
      "Accuracy: 0.967741935483871\n",
      "Precision: 0.96\n",
      "Recall: 0.9777777777777779\n"
     ]
    }
   ],
   "source": [
    "print(\"Accuracy:\", accuracy_score(y_test, y_pred))\n",
    "print(\"Precision:\", precision_score(y_test,y_pred,pos_label='positive',average='macro'))\n",
    "print(\"Recall:\", recall_score(y_test, y_pred,pos_label='positive',average='macro'))"
   ]
  },
  {
   "cell_type": "code",
   "execution_count": 14,
   "metadata": {},
   "outputs": [
    {
     "data": {
      "text/plain": [
       "Text(0.5, 257.44, 'Predicted label')"
      ]
     },
     "execution_count": 14,
     "metadata": {},
     "output_type": "execute_result"
    },
    {
     "data": {
      "image/png": "[encoded data removed]",
      "text/plain": [
       "<Figure size 432x288 with 2 Axes>"
      ]
     },
     "metadata": {
      "needs_background": "light"
     },
     "output_type": "display_data"
    }
   ],
   "source": [
    "# confusion matrix\n",
    "conf_mat = confusion_matrix(y_test, y_pred)\n",
    "categories = [0,1] \n",
    "fig, ax = plt.subplots()\n",
    "plt.xticks([0,1], categories)\n",
    "plt.yticks([0,1], categories)\n",
    "sns.heatmap(pd.DataFrame(conf_mat), annot=True, cmap=\"YlGnBu\" ,fmt='g')\n",
    "ax.xaxis.set_label_position(\"top\")\n",
    "plt.tight_layout()\n",
    "plt.title('Confusion matrix', y=1.1)\n",
    "plt.ylabel('Actual label')\n",
    "plt.xlabel('Predicted label')"
   ]
  },
  {
   "cell_type": "markdown",
   "metadata": {},
   "source": [
    "Accuracy for Logistic Regression is 93.55%**"
   ]
  },
  {
   "cell_type": "markdown",
   "metadata": {},
   "source": [
    "# Decision Tree Classification"
   ]
  },
  {
   "cell_type": "code",
   "execution_count": 15,
   "metadata": {},
   "outputs": [],
   "source": [
    "#Decision Tree Libraries\n",
    "from sklearn.tree import DecisionTreeClassifier\n",
    "from sklearn import tree"
   ]
  },
  {
   "cell_type": "code",
   "execution_count": 16,
   "metadata": {},
   "outputs": [],
   "source": [
    "X_train,X_test,y_train,y_test=train_test_split(X,y,test_size=0.25,random_state=0)\n",
    "\n",
    "scaler = preprocessing.StandardScaler()\n",
    "X_train = scaler.fit_transform(X_train)\n",
    "X_test = scaler.transform(X_test)"
   ]
  },
  {
   "cell_type": "code",
   "execution_count": 17,
   "metadata": {},
   "outputs": [
    {
     "data": {
      "image/png": "[encoded data removed]",
      "text/plain": [
       "<Figure size 864x864 with 1 Axes>"
      ]
     },
     "metadata": {
      "needs_background": "light"
     },
     "output_type": "display_data"
    }
   ],
   "source": [
    "#Plotting the tree\n",
    "clf = DecisionTreeClassifier(criterion='entropy')\n",
    "\n",
    "clf.fit(X_train,y_train)\n",
    "y_pred= clf.predict(X_test)\n",
    "\n",
    "fig, ax = plt.subplots(figsize=(12, 12))\n",
    "tree.plot_tree(decision_tree=clf, max_depth= 3,fontsize=12);"
   ]
  },
  {
   "cell_type": "code",
   "execution_count": 18,
   "metadata": {},
   "outputs": [
    {
     "name": "stdout",
     "output_type": "stream",
     "text": [
      "[[4 3 0 0 0 1]\n",
      " [2 9 0 0 0 0]\n",
      " [0 0 6 0 0 0]\n",
      " [0 0 0 3 2 0]\n",
      " [1 0 0 2 3 0]\n",
      " [0 0 0 1 0 1]]\n"
     ]
    }
   ],
   "source": [
    "conf_mat = confusion_matrix(y_test, y_pred)\n",
    "print(conf_mat)"
   ]
  },
  {
   "cell_type": "code",
   "execution_count": 19,
   "metadata": {},
   "outputs": [
    {
     "name": "stdout",
     "output_type": "stream",
     "text": [
      "Accuracy: 0.6842105263157895\n"
     ]
    }
   ],
   "source": [
    "print(\"Accuracy:\", accuracy_score(y_test, y_pred))"
   ]
  },
  {
   "cell_type": "markdown",
   "metadata": {},
   "source": [
    "Accuracy for Decision Tree Classification is **68.42%**"
   ]
  },
  {
   "cell_type": "markdown",
   "metadata": {},
   "source": [
    "# XGBoost"
   ]
  },
  {
   "cell_type": "code",
   "execution_count": 20,
   "metadata": {},
   "outputs": [],
   "source": [
    "import xgboost as xgb\n",
    "from xgboost import plot_importance"
   ]
  },
  {
   "cell_type": "code",
   "execution_count": 21,
   "metadata": {},
   "outputs": [
    {
     "name": "stdout",
     "output_type": "stream",
     "text": [
      "[20:32:33] WARNING: C:/Users/Administrator/workspace/xgboost-win64_release_1.3.0/src/learner.cc:1061: Starting in XGBoost 1.3.0, the default evaluation metric used with the objective 'multi:softprob' was changed from 'merror' to 'mlogloss'. Explicitly set eval_metric if you'd like to restore the old behavior.\n",
      "accuracy: 0.789474\n"
     ]
    }
   ],
   "source": [
    "xg_cl = xgb.XGBClassifier(objective='binary:logistic', max_depth=1000, n_estimators=200, seed=2000) \n",
    "xg_cl.fit(X_train, y_train)\n",
    "preds = xg_cl.predict(X_test)\n",
    "accuracy = float(np.sum(preds==y_test))/y_test.shape[0]\n",
    "print(\"accuracy: %f\" % (accuracy))"
   ]
  },
  {
   "cell_type": "code",
   "execution_count": 22,
   "metadata": {},
   "outputs": [
    {
     "name": "stdout",
     "output_type": "stream",
     "text": [
      "[20:32:46] WARNING: C:/Users/Administrator/workspace/xgboost-win64_release_1.3.0/src/learner.cc:1061: Starting in XGBoost 1.3.0, the default evaluation metric used with the objective 'multi:softprob' was changed from 'merror' to 'mlogloss'. Explicitly set eval_metric if you'd like to restore the old behavior.\n"
     ]
    },
    {
     "data": {
      "text/plain": [
       "XGBClassifier(base_score=0.5, booster='gbtree', colsample_bylevel=1,\n",
       "              colsample_bynode=1, colsample_bytree=1, gamma=0, gpu_id=-1,\n",
       "              importance_type='gain', interaction_constraints='',\n",
       "              learning_rate=0.300000012, max_delta_step=0, max_depth=1000,\n",
       "              min_child_weight=1, missing=nan, monotone_constraints='()',\n",
       "              n_estimators=200, n_jobs=8, num_parallel_tree=1,\n",
       "              objective='multi:softprob', random_state=2000, reg_alpha=0,\n",
       "              reg_lambda=1, scale_pos_weight=None, seed=2000, subsample=1,\n",
       "              tree_method='exact', use_label_encoder=True,\n",
       "              validate_parameters=1, verbosity=None)"
      ]
     },
     "execution_count": 22,
     "metadata": {},
     "output_type": "execute_result"
    }
   ],
   "source": [
    "xg_cl.fit(X_train, y_train)"
   ]
  },
  {
   "cell_type": "code",
   "execution_count": 23,
   "metadata": {},
   "outputs": [
    {
     "data": {
      "text/plain": [
       "array([0.        , 0.        , 0.00693882, ..., 0.        , 0.        ,\n",
       "       0.        ], dtype=float32)"
      ]
     },
     "execution_count": 23,
     "metadata": {},
     "output_type": "execute_result"
    }
   ],
   "source": [
    "#feature importance\n",
    "xg_cl.feature_importances_"
   ]
  },
  {
   "cell_type": "code",
   "execution_count": 24,
   "metadata": {},
   "outputs": [
    {
     "data": {
      "image/png": "[encoded data removed]",
      "text/plain": [
       "<Figure size 432x288 with 1 Axes>"
      ]
     },
     "metadata": {
      "needs_background": "light"
     },
     "output_type": "display_data"
    }
   ],
   "source": [
    "plot_importance(xg_cl, max_num_features=10) #lets look at top 10 since there are so many in this dataset\n",
    "plt.show()"
   ]
  },
  {
   "cell_type": "markdown",
   "metadata": {},
   "source": [
    "# KMeans"
   ]
  },
  {
   "cell_type": "code",
   "execution_count": 25,
   "metadata": {},
   "outputs": [
    {
     "data": {
      "text/html": [
       "<div>\n",
       "<style scoped>\n",
       "    .dataframe tbody tr th:only-of-type {\n",
       "        vertical-align: middle;\n",
       "    }\n",
       "\n",
       "    .dataframe tbody tr th {\n",
       "        vertical-align: top;\n",
       "    }\n",
       "\n",
       "    .dataframe thead th {\n",
       "        text-align: right;\n",
       "    }\n",
       "</style>\n",
       "<table border=\"1\" class=\"dataframe\">\n",
       "  <thead>\n",
       "    <tr style=\"text-align: right;\">\n",
       "      <th></th>\n",
       "      <th>number of clusters</th>\n",
       "      <th>cluster errors</th>\n",
       "    </tr>\n",
       "  </thead>\n",
       "  <tbody>\n",
       "    <tr>\n",
       "      <td>0</td>\n",
       "      <td>1</td>\n",
       "      <td>2.473682e+06</td>\n",
       "    </tr>\n",
       "    <tr>\n",
       "      <td>1</td>\n",
       "      <td>2</td>\n",
       "      <td>2.260619e+06</td>\n",
       "    </tr>\n",
       "    <tr>\n",
       "      <td>2</td>\n",
       "      <td>3</td>\n",
       "      <td>2.083179e+06</td>\n",
       "    </tr>\n",
       "    <tr>\n",
       "      <td>3</td>\n",
       "      <td>4</td>\n",
       "      <td>1.972541e+06</td>\n",
       "    </tr>\n",
       "    <tr>\n",
       "      <td>4</td>\n",
       "      <td>5</td>\n",
       "      <td>1.879703e+06</td>\n",
       "    </tr>\n",
       "    <tr>\n",
       "      <td>5</td>\n",
       "      <td>6</td>\n",
       "      <td>1.798881e+06</td>\n",
       "    </tr>\n",
       "    <tr>\n",
       "      <td>6</td>\n",
       "      <td>7</td>\n",
       "      <td>1.771733e+06</td>\n",
       "    </tr>\n",
       "    <tr>\n",
       "      <td>7</td>\n",
       "      <td>8</td>\n",
       "      <td>1.737492e+06</td>\n",
       "    </tr>\n",
       "    <tr>\n",
       "      <td>8</td>\n",
       "      <td>9</td>\n",
       "      <td>1.721816e+06</td>\n",
       "    </tr>\n",
       "    <tr>\n",
       "      <td>9</td>\n",
       "      <td>10</td>\n",
       "      <td>1.695169e+06</td>\n",
       "    </tr>\n",
       "    <tr>\n",
       "      <td>10</td>\n",
       "      <td>11</td>\n",
       "      <td>1.663781e+06</td>\n",
       "    </tr>\n",
       "    <tr>\n",
       "      <td>11</td>\n",
       "      <td>12</td>\n",
       "      <td>1.650230e+06</td>\n",
       "    </tr>\n",
       "    <tr>\n",
       "      <td>12</td>\n",
       "      <td>13</td>\n",
       "      <td>1.644635e+06</td>\n",
       "    </tr>\n",
       "    <tr>\n",
       "      <td>13</td>\n",
       "      <td>14</td>\n",
       "      <td>1.609949e+06</td>\n",
       "    </tr>\n",
       "    <tr>\n",
       "      <td>14</td>\n",
       "      <td>15</td>\n",
       "      <td>1.590975e+06</td>\n",
       "    </tr>\n",
       "    <tr>\n",
       "      <td>15</td>\n",
       "      <td>16</td>\n",
       "      <td>1.569892e+06</td>\n",
       "    </tr>\n",
       "    <tr>\n",
       "      <td>16</td>\n",
       "      <td>17</td>\n",
       "      <td>1.561975e+06</td>\n",
       "    </tr>\n",
       "    <tr>\n",
       "      <td>17</td>\n",
       "      <td>18</td>\n",
       "      <td>1.536798e+06</td>\n",
       "    </tr>\n",
       "    <tr>\n",
       "      <td>18</td>\n",
       "      <td>19</td>\n",
       "      <td>1.514679e+06</td>\n",
       "    </tr>\n",
       "  </tbody>\n",
       "</table>\n",
       "</div>"
      ],
      "text/plain": [
       "    number of clusters  cluster errors\n",
       "0                    1    2.473682e+06\n",
       "1                    2    2.260619e+06\n",
       "2                    3    2.083179e+06\n",
       "3                    4    1.972541e+06\n",
       "4                    5    1.879703e+06\n",
       "5                    6    1.798881e+06\n",
       "6                    7    1.771733e+06\n",
       "7                    8    1.737492e+06\n",
       "8                    9    1.721816e+06\n",
       "9                   10    1.695169e+06\n",
       "10                  11    1.663781e+06\n",
       "11                  12    1.650230e+06\n",
       "12                  13    1.644635e+06\n",
       "13                  14    1.609949e+06\n",
       "14                  15    1.590975e+06\n",
       "15                  16    1.569892e+06\n",
       "16                  17    1.561975e+06\n",
       "17                  18    1.536798e+06\n",
       "18                  19    1.514679e+06"
      ]
     },
     "execution_count": 25,
     "metadata": {},
     "output_type": "execute_result"
    }
   ],
   "source": [
    "from sklearn.cluster import KMeans\n",
    "from sklearn.preprocessing import StandardScaler\n",
    "\n",
    "scaler = StandardScaler()\n",
    "\n",
    "scaled_data = scaler.fit_transform(cell_data)\n",
    "\n",
    "cluster_range = range(1, 20)\n",
    "cluster_errors = []\n",
    "for nu in cluster_range:\n",
    "  clusters_test = KMeans(nu, n_init = 10 )\n",
    "  clusters_test.fit(scaled_data)\n",
    "  labels = clusters_test.labels_\n",
    "  centroids = clusters_test.cluster_centers_\n",
    "  cluster_errors.append( clusters_test.inertia_ )\n",
    "clusters_df = pd.DataFrame( { \"number of clusters\":cluster_range, \"cluster errors\": cluster_errors } )\n",
    "clusters_df[0:20]"
   ]
  }
 ],
 "metadata": {
  "kernelspec": {
   "display_name": "Python 3",
   "language": "python",
   "name": "python3"
  },
  "language_info": {
   "codemirror_mode": {
    "name": "ipython",
    "version": 3
   },
   "file_extension": ".py",
   "mimetype": "text/x-python",
   "name": "python",
   "nbconvert_exporter": "python",
   "pygments_lexer": "ipython3",
   "version": "3.7.4"
  }
 },
 "nbformat": 4,
 "nbformat_minor": 2
}
